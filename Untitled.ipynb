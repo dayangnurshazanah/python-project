{
 "cells": [
  {
   "cell_type": "code",
   "execution_count": 2,
   "id": "c6b94167",
   "metadata": {},
   "outputs": [
    {
     "ename": "LinAlgError",
     "evalue": "Last 2 dimensions of the array must be square",
     "output_type": "error",
     "traceback": [
      "\u001b[1;31m---------------------------------------------------------------------------\u001b[0m",
      "\u001b[1;31mLinAlgError\u001b[0m                               Traceback (most recent call last)",
      "Cell \u001b[1;32mIn[2], line 12\u001b[0m\n\u001b[0;32m      9\u001b[0m b \u001b[38;5;241m=\u001b[39m np\u001b[38;5;241m.\u001b[39marray([\u001b[38;5;241m1\u001b[39m, \u001b[38;5;241m0\u001b[39m, \u001b[38;5;241m0\u001b[39m])\n\u001b[0;32m     11\u001b[0m \u001b[38;5;66;03m# Using numpy's linlag.solve method to solve the system of linear equations\u001b[39;00m\n\u001b[1;32m---> 12\u001b[0m x \u001b[38;5;241m=\u001b[39m np\u001b[38;5;241m.\u001b[39mlinalg\u001b[38;5;241m.\u001b[39msolve(A, b)\n\u001b[0;32m     14\u001b[0m \u001b[38;5;28mprint\u001b[39m(\u001b[38;5;124m'\u001b[39m\u001b[38;5;124mThe solution to the system of linear equations is: \u001b[39m\u001b[38;5;124m'\u001b[39m, x)\n",
      "File \u001b[1;32m<__array_function__ internals>:200\u001b[0m, in \u001b[0;36msolve\u001b[1;34m(*args, **kwargs)\u001b[0m\n",
      "File \u001b[1;32m~\\anaconda3\\Lib\\site-packages\\numpy\\linalg\\linalg.py:373\u001b[0m, in \u001b[0;36msolve\u001b[1;34m(a, b)\u001b[0m\n\u001b[0;32m    371\u001b[0m a, _ \u001b[38;5;241m=\u001b[39m _makearray(a)\n\u001b[0;32m    372\u001b[0m _assert_stacked_2d(a)\n\u001b[1;32m--> 373\u001b[0m _assert_stacked_square(a)\n\u001b[0;32m    374\u001b[0m b, wrap \u001b[38;5;241m=\u001b[39m _makearray(b)\n\u001b[0;32m    375\u001b[0m t, result_t \u001b[38;5;241m=\u001b[39m _commonType(a, b)\n",
      "File \u001b[1;32m~\\anaconda3\\Lib\\site-packages\\numpy\\linalg\\linalg.py:190\u001b[0m, in \u001b[0;36m_assert_stacked_square\u001b[1;34m(*arrays)\u001b[0m\n\u001b[0;32m    188\u001b[0m m, n \u001b[38;5;241m=\u001b[39m a\u001b[38;5;241m.\u001b[39mshape[\u001b[38;5;241m-\u001b[39m\u001b[38;5;241m2\u001b[39m:]\n\u001b[0;32m    189\u001b[0m \u001b[38;5;28;01mif\u001b[39;00m m \u001b[38;5;241m!=\u001b[39m n:\n\u001b[1;32m--> 190\u001b[0m     \u001b[38;5;28;01mraise\u001b[39;00m LinAlgError(\u001b[38;5;124m'\u001b[39m\u001b[38;5;124mLast 2 dimensions of the array must be square\u001b[39m\u001b[38;5;124m'\u001b[39m)\n",
      "\u001b[1;31mLinAlgError\u001b[0m: Last 2 dimensions of the array must be square"
     ]
    }
   ],
   "source": [
    "import numpy as np\n",
    "\n",
    "# Coefficient matrix\n",
    "A = np.array([[3, 2],\n",
    "              [1, 2],\n",
    "              [0, 1]])\n",
    "\n",
    "# Solution vector\n",
    "b = np.array([1, 0, 0])\n",
    "\n",
    "# Using numpy's linlag.solve method to solve the system of linear equations\n",
    "x = np.linalg.solve(A, b)\n",
    "\n",
    "print('The solution to the system of linear equations is: ', x)"
   ]
  },
  {
   "cell_type": "code",
   "execution_count": 3,
   "id": "7eb4d5f6",
   "metadata": {},
   "outputs": [
    {
     "name": "stdout",
     "output_type": "stream",
     "text": [
      "{x: 1/2, y: -1/4}\n"
     ]
    }
   ],
   "source": [
    "from sympy import *\n",
    "\n",
    "# Define the variables\n",
    "x, y = symbols('x y')\n",
    "\n",
    "# Define the system of equations\n",
    "equations = [3*x + 2*y - 1, x + 2*y]\n",
    "\n",
    "# Solve the system of equations\n",
    "solution = solve(equations, (x, y))\n",
    "\n",
    "# Print the solution\n",
    "print(solution)\n"
   ]
  },
  {
   "cell_type": "code",
   "execution_count": 4,
   "id": "9c484d2c",
   "metadata": {},
   "outputs": [
    {
     "name": "stdout",
     "output_type": "stream",
     "text": [
      "The solution to the system of linear equations is:  [ 0.5  -0.25]\n"
     ]
    }
   ],
   "source": [
    "import numpy as np\n",
    "\n",
    "# Coefficient matrix\n",
    "A = np.array([[3, 2],\n",
    "              [1, 2]])\n",
    "\n",
    "# Solution vector\n",
    "b = np.array([1, 0])\n",
    "\n",
    "# Using numpy's linlag.solve method to solve the system of linear equations\n",
    "x = np.linalg.solve(A, b)\n",
    "\n",
    "print('The solution to the system of linear equations is: ', x)"
   ]
  },
  {
   "cell_type": "code",
   "execution_count": null,
   "id": "b8c4a663",
   "metadata": {},
   "outputs": [],
   "source": []
  }
 ],
 "metadata": {
  "kernelspec": {
   "display_name": "Python 3 (ipykernel)",
   "language": "python",
   "name": "python3"
  },
  "language_info": {
   "codemirror_mode": {
    "name": "ipython",
    "version": 3
   },
   "file_extension": ".py",
   "mimetype": "text/x-python",
   "name": "python",
   "nbconvert_exporter": "python",
   "pygments_lexer": "ipython3",
   "version": "3.11.5"
  }
 },
 "nbformat": 4,
 "nbformat_minor": 5
}
