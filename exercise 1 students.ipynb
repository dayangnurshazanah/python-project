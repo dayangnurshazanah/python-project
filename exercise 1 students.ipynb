{
 "cells": [
  {
   "cell_type": "code",
   "execution_count": 1,
   "id": "2850cb6e",
   "metadata": {},
   "outputs": [
    {
     "name": "stdout",
     "output_type": "stream",
     "text": [
      "Filtered data has been written to top_students.csv\n"
     ]
    }
   ],
   "source": [
    "import csv\n",
    "\n",
    "# Function to filter students based on grades\n",
    "def filter_students(input_file, output_file):\n",
    "    with open(input_file, mode='r') as file:\n",
    "        reader = csv.DictReader(file)\n",
    "        headers = reader.fieldnames + ['Status']\n",
    "        filtered_students = []\n",
    "\n",
    "        for row in reader:\n",
    "            if row['Grade'].strip().upper() <= 'B':\n",
    "                row['Status'] = 'Passed'\n",
    "                filtered_students.append(row)\n",
    "\n",
    "    with open(output_file, mode='w', newline='') as output:\n",
    "        writer = csv.DictWriter(output, fieldnames=headers)\n",
    "        writer.writeheader()\n",
    "        writer.writerows(filtered_students)\n",
    "\n",
    "# File names\n",
    "input_filename = 'students.csv'\n",
    "output_filename = 'top_students.csv'\n",
    "\n",
    "# Filter students and write to a new CSV file\n",
    "filter_students(input_filename, output_filename)\n",
    "print(f\"Filtered data has been written to {output_filename}\")"
   ]
  },
  {
   "cell_type": "code",
   "execution_count": 1,
   "id": "8d528a9f",
   "metadata": {},
   "outputs": [
    {
     "ename": "IndentationError",
     "evalue": "expected an indented block after function definition on line 44 (2942953665.py, line 45)",
     "output_type": "error",
     "traceback": [
      "\u001b[1;36m  Cell \u001b[1;32mIn[1], line 45\u001b[1;36m\u001b[0m\n\u001b[1;33m    try:\u001b[0m\n\u001b[1;37m    ^\u001b[0m\n\u001b[1;31mIndentationError\u001b[0m\u001b[1;31m:\u001b[0m expected an indented block after function definition on line 44\n"
     ]
    }
   ],
   "source": [
    "#importing necesseries library\n",
    "import matplotlib.pyplot as plt\n",
    "import requests\n",
    "from datetime import datetime, timedelta\n",
    "\n",
    "def get_temperature_data(forecast_days):\n",
    "    base_url = \"https://api.open-meteo.com/v1/forecast\"\n",
    "    latitude = 2.5\n",
    "    longitude = 112.5\n",
    "    timezone = \"Asia/Singapore\"\n",
    "\n",
    "    try:\n",
    "        # Ensure the number of forecast days is within the valid range\n",
    "        if forecast_days < 1 or forecast_days > 16:\n",
    "            raise ValueError(\"Invalid number of forecast days. Please enter a number between 1 and 16.\")\n",
    "\n",
    "        # Send the GET request\n",
    "        response = requests.get(base_url, params={\n",
    "            \"latitude\": latitude,\n",
    "            \"longitude\": longitude,\n",
    "            \"timezone\": timezone,\n",
    "            \"hourly\": \"temperature_2m\",\n",
    "            \"forecast_days\": forecast_days\n",
    "        })\n",
    "\n",
    "        # Check if the request was successful\n",
    "        if response.status_code != 200:\n",
    "            raise Exception(f\"Error: {response.status_code}\")\n",
    "\n",
    "        # Extract the hourly time points and corresponding temperature data\n",
    "        data = response.json()\n",
    "        temperature_data = []\n",
    "        time_data = []\n",
    "        for day in data[\"forecast\"][\"forecastday\"]:\n",
    "            for hour in day[\"hour\"]:\n",
    "                time_data.append(datetime.fromtimestamp(hour[\"time\"]))\n",
    "                temperature_data.append(hour[\"temperature_2m\"])\n",
    "\n",
    "        return time_data, temperature_data\n",
    "\n",
    "    except Exception as e:\n",
    "        print(f\"Error: {e}\")\n",
    "        return None, None\n",
    "    def plot_temperature_trend(time_data, temperature_data):\n",
    "    try:\n",
    "        # Check if the data is valid\n",
    "        if not time_data or not temperature_data:\n",
    "            raise ValueError(\"Invalid data. Please check the number of forecast days.\")\n",
    "\n",
    "        # Plot the line chart\n",
    "        plt.figure(figsize=(10, 5))\n",
    "        plt.plot(time_data, temperature_data, marker='o', linestyle='-')\n",
    "        plt.title(f\"Hourly Temperature Trend for {forecast_days} Days\")\n",
    "        plt.xlabel(\"Time\")\n",
    "        plt.ylabel(\"Temperature (°C)\")\n",
    "        plt.grid(True)\n",
    "        plt.show()\n",
    "\n",
    "    except Exception as e:\n",
    "        print(f\"Error: {e}\")\n",
    "        \n",
    "        def main():\n",
    "    while True:\n",
    "        try:\n",
    "            forecast_days = int(input(\"Enter the number of days for the forecast (1-16): \"))\n",
    "            time_data, temperature_data = get_temperature_data(forecast_days)\n",
    "            if time_data and temperature_data:\n",
    "                plot_temperature_trend(time_data, temperature_data)\n",
    "                break\n",
    "\n",
    "        except ValueError as e:\n",
    "            print(f\"Error: {e}\")\n",
    "            \n",
    "        if __name__ == \"__main__\":\n",
    "    main()\n"
   ]
  },
  {
   "cell_type": "code",
   "execution_count": null,
   "id": "48a7b414",
   "metadata": {},
   "outputs": [],
   "source": []
  }
 ],
 "metadata": {
  "kernelspec": {
   "display_name": "Python 3 (ipykernel)",
   "language": "python",
   "name": "python3"
  },
  "language_info": {
   "codemirror_mode": {
    "name": "ipython",
    "version": 3
   },
   "file_extension": ".py",
   "mimetype": "text/x-python",
   "name": "python",
   "nbconvert_exporter": "python",
   "pygments_lexer": "ipython3",
   "version": "3.11.5"
  }
 },
 "nbformat": 4,
 "nbformat_minor": 5
}
