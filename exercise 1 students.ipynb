{
 "cells": [
  {
   "cell_type": "code",
   "execution_count": 1,
   "id": "2850cb6e",
   "metadata": {},
   "outputs": [
    {
     "name": "stdout",
     "output_type": "stream",
     "text": [
      "Filtered data has been written to top_students.csv\n"
     ]
    }
   ],
   "source": [
    "import csv\n",
    "\n",
    "# Function to filter students based on grades\n",
    "def filter_students(input_file, output_file):\n",
    "    with open(input_file, mode='r') as file:\n",
    "        reader = csv.DictReader(file)\n",
    "        headers = reader.fieldnames + ['Status']\n",
    "        filtered_students = []\n",
    "\n",
    "        for row in reader:\n",
    "            if row['Grade'].strip().upper() <= 'B':\n",
    "                row['Status'] = 'Passed'\n",
    "                filtered_students.append(row)\n",
    "\n",
    "    with open(output_file, mode='w', newline='') as output:\n",
    "        writer = csv.DictWriter(output, fieldnames=headers)\n",
    "        writer.writeheader()\n",
    "        writer.writerows(filtered_students)\n",
    "\n",
    "# File names\n",
    "input_filename = 'students.csv'\n",
    "output_filename = 'top_students.csv'\n",
    "\n",
    "# Filter students and write to a new CSV file\n",
    "filter_students(input_filename, output_filename)\n",
    "print(f\"Filtered data has been written to {output_filename}\")"
   ]
  },
  {
   "cell_type": "code",
   "execution_count": null,
   "id": "8d528a9f",
   "metadata": {},
   "outputs": [],
   "source": []
  }
 ],
 "metadata": {
  "kernelspec": {
   "display_name": "Python 3 (ipykernel)",
   "language": "python",
   "name": "python3"
  },
  "language_info": {
   "codemirror_mode": {
    "name": "ipython",
    "version": 3
   },
   "file_extension": ".py",
   "mimetype": "text/x-python",
   "name": "python",
   "nbconvert_exporter": "python",
   "pygments_lexer": "ipython3",
   "version": "3.11.5"
  }
 },
 "nbformat": 4,
 "nbformat_minor": 5
}
