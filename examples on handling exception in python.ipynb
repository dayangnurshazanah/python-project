{
 "cells": [
  {
   "cell_type": "code",
   "execution_count": 6,
   "id": "af9920be",
   "metadata": {},
   "outputs": [
    {
     "name": "stdout",
     "output_type": "stream",
     "text": [
      "Enter the first number: 5\n",
      "Enter the second number: 0\n",
      "Enter the operation (+, -, *, /): /\n",
      "Error: Cannot divide by zero.\n"
     ]
    }
   ],
   "source": [
    "def simple_calculator():\n",
    "    try:\n",
    "        # ask the user for two numbers and an operation\n",
    "        num1 = float(input(\"Enter the first number: \"))\n",
    "        num2 = float(input(\"Enter the second number: \"))\n",
    "        operation = input(\"Enter the operation (+, -, *, /): \")\n",
    "        \n",
    "        #perform calculation based on the operation\n",
    "        if operation == '+':\n",
    "            result = num1 + num2\n",
    "        elif operation == '-':\n",
    "            result = num1 - num2\n",
    "        elif operation == '*':\n",
    "            result = num1 * num2\n",
    "        elif operation == '/':\n",
    "            if num2 == 0:\n",
    "                raise ZeroDivisionError(\"Division by zero is not allowed.\")\n",
    "            result = num1 / num2\n",
    "        else:\n",
    "            raise ValueError(\"Invalid operation. Please enter +, -, *, or /.\")\n",
    "\n",
    "        print(f\"Result: {result}\")\n",
    "        \n",
    "\n",
    "    except ValueError:\n",
    "        print(\"Invalid input. Please put a number.\")\n",
    "    except ZeroDivisionError as zde:\n",
    "        print(\"Error: Cannot divide by zero.\")\n",
    "    except Exception as e:\n",
    "        print(f\"An unexpected error occured: {e}\")\n",
    "\n",
    "simple_calculator()"
   ]
  },
  {
   "cell_type": "code",
   "execution_count": null,
   "id": "64fb0124",
   "metadata": {},
   "outputs": [],
   "source": []
  }
 ],
 "metadata": {
  "kernelspec": {
   "display_name": "Python 3 (ipykernel)",
   "language": "python",
   "name": "python3"
  },
  "language_info": {
   "codemirror_mode": {
    "name": "ipython",
    "version": 3
   },
   "file_extension": ".py",
   "mimetype": "text/x-python",
   "name": "python",
   "nbconvert_exporter": "python",
   "pygments_lexer": "ipython3",
   "version": "3.11.5"
  }
 },
 "nbformat": 4,
 "nbformat_minor": 5
}
