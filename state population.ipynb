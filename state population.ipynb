{
 "cells": [
  {
   "cell_type": "code",
   "execution_count": null,
   "id": "584a5f44",
   "metadata": {},
   "outputs": [
    {
     "name": "stdout",
     "output_type": "stream",
     "text": [
      "Enter the name of a state: johor\n",
      "Population of johor: 3794000\n"
     ]
    }
   ],
   "source": [
    "import requests\n",
    "\n",
    "def get_population(state_name):\n",
    "    url = \"https://jian.sh/malaysia-api/state/v1/all.json\"\n",
    "    \n",
    "    try:\n",
    "        response = requests.get(url)\n",
    "        data = response.json()\n",
    "        \n",
    "        for state in data:\n",
    "            if state[\"state\"].lower() == state_name.lower():\n",
    "                return state[\"population\"]\n",
    "        \n",
    "        return None  # State not found in the dataset\n",
    "\n",
    "    except requests.exceptions.RequestException as e:\n",
    "        print(f\"Error fetching data: {e}\")\n",
    "        return None\n",
    "\n",
    "def main():\n",
    "    while True:\n",
    "        state_name = input(\"Enter the name of a state: \")\n",
    "\n",
    "        if state_name.lower() == \"exit\":\n",
    "            break  # Exit the program if the user enters \"exit\"\n",
    "\n",
    "        population = get_population(state_name)\n",
    "\n",
    "        if population is not None:\n",
    "            print(f\"Population of {state_name}: {population}\")\n",
    "        else:\n",
    "            print(f\"{state_name} is not found in the data.\")\n",
    "\n",
    "if __name__ == \"__main__\":\n",
    "    main()"
   ]
  },
  {
   "cell_type": "code",
   "execution_count": null,
   "id": "fa2df0a9",
   "metadata": {},
   "outputs": [],
   "source": []
  }
 ],
 "metadata": {
  "kernelspec": {
   "display_name": "Python 3 (ipykernel)",
   "language": "python",
   "name": "python3"
  },
  "language_info": {
   "codemirror_mode": {
    "name": "ipython",
    "version": 3
   },
   "file_extension": ".py",
   "mimetype": "text/x-python",
   "name": "python",
   "nbconvert_exporter": "python",
   "pygments_lexer": "ipython3",
   "version": "3.11.5"
  }
 },
 "nbformat": 4,
 "nbformat_minor": 5
}
