{
 "cells": [
  {
   "cell_type": "code",
   "execution_count": 4,
   "id": "0be536f6",
   "metadata": {},
   "outputs": [
    {
     "name": "stdout",
     "output_type": "stream",
     "text": [
      "Checkout process by Amirah:\n",
      "Books being checked out:\n",
      "- Matematics Form 5\n",
      "- Why were you sleeping\n",
      "\n",
      "Checkout duration: 1 weeks\n",
      "Late fee per day: 0.5\n",
      "Special conditions: Handle with care\n",
      "\n",
      "Checkout complete. Please return the books on time.\n"
     ]
    }
   ],
   "source": [
    "def checkout_books(librarian_name, *book_titles, duration='2 weeks', **kwargs):    \n",
    "    \"\"\"\n",
    "    Manage book checkouts at a library.    \n",
    "    Parameters:\n",
    "    - librarian_name: str, the name of the librarian processing the checkout.    \n",
    "    - book_titles: str, one or more book titles being checked out.\n",
    "    - duration: str, default='2 weeks', the standard checkout duration.    \n",
    "    - **kwargs: additional information about the checkout, such as late_fee per day or special_conditions.\n",
    "    Returns:    \n",
    "    - None\n",
    "    \"\"\"    \n",
    "    print(f\"Checkout process by {librarian_name}:\")\n",
    "    \n",
    "    if not book_titles:        \n",
    "        print(\"No books selected for checkout.\")\n",
    "        return\n",
    "    \n",
    "    print(\"Books being checked out:\")    \n",
    "    for title in book_titles:\n",
    "        print(f\"- {title}\")\n",
    "        \n",
    "    print(f\"\\nCheckout duration: {duration}\")    \n",
    "    if 'late_fee' in kwargs:        \n",
    "        late_fee = kwargs['late_fee']\n",
    "        print(f\"Late fee per day: {late_fee}\") \n",
    "        \n",
    "    if 'special_conditions' in kwargs:        \n",
    "        special_conditions = kwargs['special_conditions']\n",
    "        print(f\"Special conditions: {special_conditions}\")\n",
    "        \n",
    "    print(\"\\nCheckout complete. Please return the books on time.\")    \n",
    "# Example usage:\n",
    "checkout_books('Amirah', 'Matematics Form 5', 'Why were you sleeping', duration='1 weeks', late_fee=0.50, special_conditions='Handle with care')"
   ]
  },
  {
   "cell_type": "code",
   "execution_count": null,
   "id": "960b1e1b",
   "metadata": {},
   "outputs": [],
   "source": []
  }
 ],
 "metadata": {
  "kernelspec": {
   "display_name": "Python 3 (ipykernel)",
   "language": "python",
   "name": "python3"
  },
  "language_info": {
   "codemirror_mode": {
    "name": "ipython",
    "version": 3
   },
   "file_extension": ".py",
   "mimetype": "text/x-python",
   "name": "python",
   "nbconvert_exporter": "python",
   "pygments_lexer": "ipython3",
   "version": "3.11.5"
  }
 },
 "nbformat": 4,
 "nbformat_minor": 5
}
