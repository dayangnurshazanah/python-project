{
 "cells": [
  {
   "cell_type": "code",
   "execution_count": 12,
   "id": "3316d21c",
   "metadata": {},
   "outputs": [
    {
     "data": {
      "image/png": "[encoded data removed]",
      "text/plain": [
       "<Figure size 640x480 with 1 Axes>"
      ]
     },
     "metadata": {},
     "output_type": "display_data"
    }
   ],
   "source": [
    "#import necesseries library\n",
    "import numpy as np\n",
    "from scipy.integrate import odeint\n",
    "\n",
    "#define the system of ODE\n",
    "def f(y, t) : \n",
    "    return -2*y \n",
    "\n",
    "#define the initial condition for the solution\n",
    "y0 = 1\n",
    "\n",
    "#define the time range\n",
    "t = np.linspace(0, 2 ,1000)\n",
    "\n",
    "#solve the ODE\n",
    "y =  odeint (f, y0, t)\n",
    "\n",
    "# Plot the solution\n",
    "import matplotlib.pyplot as plt\n",
    "plt.plot(t, y)\n",
    "plt.xlabel('t')\n",
    "plt.ylabel('y')\n",
    "plt.title('Solution of the ODE')\n",
    "plt.show()\n"
   ]
  },
  {
   "cell_type": "code",
   "execution_count": 1,
   "id": "ce3a0699",
   "metadata": {},
   "outputs": [
    {
     "name": "stdout",
     "output_type": "stream",
     "text": [
      "[[2 4 6]\n",
      " [5 3 2]\n",
      " [7 8 9]]\n"
     ]
    }
   ],
   "source": [
    "import numpy as np\n",
    "import scipy as sc\n",
    "#define the coefficient matrix A\n",
    "A = np.array ([[2, 4, 6], [5, 3, 2], [7, 8, 9]])\n",
    "print (A)"
   ]
  },
  {
   "cell_type": "code",
   "execution_count": 3,
   "id": "55ebc16f",
   "metadata": {},
   "outputs": [
    {
     "name": "stdout",
     "output_type": "stream",
     "text": [
      "[[18]\n",
      " [ 3]\n",
      " [30]]\n"
     ]
    }
   ],
   "source": [
    "#define the right handside vector\n",
    "B = np.array ([[18], [3], [30]])\n",
    "print (B)"
   ]
  },
  {
   "cell_type": "code",
   "execution_count": 4,
   "id": "4a375d88",
   "metadata": {},
   "outputs": [
    {
     "name": "stdout",
     "output_type": "stream",
     "text": [
      "[[-5.5]\n",
      " [12.5]\n",
      " [-3.5]]\n"
     ]
    }
   ],
   "source": [
    "#calculate the inverse of A and multiply by B\n",
    "C = sc.linalg.solve (A, B)\n",
    "print (C)"
   ]
  },
  {
   "cell_type": "markdown",
   "id": "006b55ba",
   "metadata": {},
   "source": [
    "## question 3"
   ]
  },
  {
   "cell_type": "code",
   "execution_count": 14,
   "id": "e1970f9d",
   "metadata": {},
   "outputs": [
    {
     "ename": "IndentationError",
     "evalue": "expected an indented block after function definition on line 31 (1659087152.py, line 32)",
     "output_type": "error",
     "traceback": [
      "\u001b[1;36m  Cell \u001b[1;32mIn[14], line 32\u001b[1;36m\u001b[0m\n\u001b[1;33m    try:\u001b[0m\n\u001b[1;37m    ^\u001b[0m\n\u001b[1;31mIndentationError\u001b[0m\u001b[1;31m:\u001b[0m expected an indented block after function definition on line 31\n"
     ]
    }
   ],
   "source": [
    "# importingnecesseries library\n",
    "import matplotlib.pyplot as  plt\n",
    "import requests\n",
    "from datetime import datetime, timedelta\n",
    "\n",
    "def get_temperature_data(forecast_days):\n",
    "    api_url = \"https://api.open-meteo.com/v1/forecast?latitude=2.5&longitude=112.5&hourly=temperature_2m&timezone=Asia%2FSingapore&forecast_days=1\"\n",
    "    latitude : 2.5\n",
    "    longitude : 112.5 \n",
    "    timezone = \"Asia/Singapore\"\n",
    "    \n",
    "    try:\n",
    "        #ensure the number of forecast within the valid range\n",
    "        if forecast_days < 1 or forecast_days > 16:\n",
    "            raise ValueError(\"Invalid number of forecast days. Please enter a number between 1 and 16.\")\n",
    "        \n",
    "         # Extract the hourly time points and corresponding temperature data\n",
    "        data = response.json()\n",
    "        temperature_data = []\n",
    "        time_data = []\n",
    "        for day in data[\"forecast\"][\"forecastday\"]:\n",
    "            for hour in day[\"hour\"]:\n",
    "\n",
    "        return time_data, temperature_data\n",
    "    \n",
    "    def plot_temperature_trend(time_data, temperature_data):\n",
    "    try:\n",
    "\n",
    "        # Plot the line chart\n",
    "        plt.figure(figsize=(10, 5))\n",
    "        plt.plot(time_data, temperature_data, marker='o', linestyle='-')\n",
    "        plt.title(f\"Hourly Temperature Trend for {forecast_days} Days\")\n",
    "        plt.xlabel(\"Time\")\n",
    "        plt.ylabel(\"Temperature (°C)\")\n",
    "        plt.grid(True)\n",
    "        plt.show()\n",
    "\n",
    "        except ValueError as e:\n",
    "            print(f\"Error: {e}\")\n",
    "            \n",
    "        if __name__ == \"__main__\":\n",
    "    main()\n",
    "\n",
    "\n",
    "  \n",
    "    \n",
    "\n",
    "    "
   ]
  },
  {
   "cell_type": "code",
   "execution_count": null,
   "id": "ffd99b07",
   "metadata": {},
   "outputs": [],
   "source": []
  }
 ],
 "metadata": {
  "kernelspec": {
   "display_name": "Python 3 (ipykernel)",
   "language": "python",
   "name": "python3"
  },
  "language_info": {
   "codemirror_mode": {
    "name": "ipython",
    "version": 3
   },
   "file_extension": ".py",
   "mimetype": "text/x-python",
   "name": "python",
   "nbconvert_exporter": "python",
   "pygments_lexer": "ipython3",
   "version": "3.11.5"
  }
 },
 "nbformat": 4,
 "nbformat_minor": 5
}
